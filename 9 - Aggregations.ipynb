{
 "cells": [
  {
   "cell_type": "code",
   "execution_count": 0,
   "metadata": {
    "application/vnd.databricks.v1+cell": {
     "cellMetadata": {
      "byteLimit": 2048000,
      "rowLimit": 10000
     },
     "inputWidgets": {},
     "nuid": "c373d56c-361b-4166-8b62-33f70c415f32",
     "showTitle": false,
     "tableResultSettingsMap": {},
     "title": ""
    }
   },
   "outputs": [],
   "source": [
    "df = spark.read\\\n",
    "    .format(\"csv\")\\\n",
    "        .option(\"header\", \"true\")\\\n",
    "            .option(\"inferschema\",\"true\")\\\n",
    "                .load(\"/FileStore/invoices.csv\")"
   ]
  },
  {
   "cell_type": "code",
   "execution_count": 0,
   "metadata": {
    "application/vnd.databricks.v1+cell": {
     "cellMetadata": {
      "byteLimit": 2048000,
      "rowLimit": 10000
     },
     "inputWidgets": {},
     "nuid": "deb63fdb-f011-459b-b548-58262731df09",
     "showTitle": false,
     "tableResultSettingsMap": {},
     "title": ""
    }
   },
   "outputs": [
    {
     "output_type": "stream",
     "name": "stdout",
     "output_type": "stream",
     "text": [
      "+---------+---------+--------------------+--------+---------------+---------+----------+--------------+\n|InvoiceNo|StockCode|         Description|Quantity|    InvoiceDate|UnitPrice|CustomerID|       Country|\n+---------+---------+--------------------+--------+---------------+---------+----------+--------------+\n|   536365|     null|WHITE HANGING HEA...|       6|01-12-2010 8.26|     2.55|     17850|United Kingdom|\n|   536365|    71053| WHITE METAL LANTERN|       6|01-12-2010 8.26|     3.39|     17850|United Kingdom|\n|   536365|   84406B|CREAM CUPID HEART...|       8|01-12-2010 8.26|     2.75|     17850|United Kingdom|\n|   536365|   84029G|KNITTED UNION FLA...|       6|01-12-2010 8.26|     3.39|     17850|United Kingdom|\n|   536365|   84029E|RED WOOLLY HOTTIE...|       6|01-12-2010 8.26|     3.39|     17850|United Kingdom|\n|   536365|    22752|SET 7 BABUSHKA NE...|       2|01-12-2010 8.26|     7.65|     17850|United Kingdom|\n|   536365|    21730|GLASS STAR FROSTE...|       6|01-12-2010 8.26|     4.25|     17850|United Kingdom|\n|   536366|    22633|HAND WARMER UNION...|       6|01-12-2010 8.28|     1.85|     17850|United Kingdom|\n|   536366|    22632|HAND WARMER RED P...|       6|01-12-2010 8.28|     1.85|     17850|United Kingdom|\n|   536367|    84879|ASSORTED COLOUR B...|      32|01-12-2010 8.34|     1.69|     13047|United Kingdom|\n|   536367|    22745|POPPY'S PLAYHOUSE...|       6|01-12-2010 8.34|      2.1|     13047|United Kingdom|\n|   536367|    22748|POPPY'S PLAYHOUSE...|       6|01-12-2010 8.34|      2.1|     13047|United Kingdom|\n|   536367|    22749|FELTCRAFT PRINCES...|       8|01-12-2010 8.34|     3.75|     13047|United Kingdom|\n|   536367|    22310|IVORY KNITTED MUG...|       6|01-12-2010 8.34|     1.65|     13047|United Kingdom|\n|   536367|    84969|BOX OF 6 ASSORTED...|       6|01-12-2010 8.34|     4.25|     13047|United Kingdom|\n|   536367|    22623|BOX OF VINTAGE JI...|       3|01-12-2010 8.34|     4.95|     13047|United Kingdom|\n|   536367|    22622|BOX OF VINTAGE AL...|       2|01-12-2010 8.34|     9.95|     13047|United Kingdom|\n|   536367|    21754|HOME BUILDING BLO...|       3|01-12-2010 8.34|     5.95|     13047|United Kingdom|\n|   536367|    21755|LOVE BUILDING BLO...|       3|01-12-2010 8.34|     5.95|     13047|United Kingdom|\n|   536367|    21777|RECIPE BOX WITH M...|       4|01-12-2010 8.34|     7.95|     13047|United Kingdom|\n+---------+---------+--------------------+--------+---------------+---------+----------+--------------+\nonly showing top 20 rows\n\n"
     ]
    }
   ],
   "source": [
    "df.show()"
   ]
  },
  {
   "cell_type": "code",
   "execution_count": 0,
   "metadata": {
    "application/vnd.databricks.v1+cell": {
     "cellMetadata": {
      "byteLimit": 2048000,
      "rowLimit": 10000
     },
     "inputWidgets": {},
     "nuid": "30612055-03a5-47ac-9554-4eec49160c8a",
     "showTitle": false,
     "tableResultSettingsMap": {},
     "title": ""
    }
   },
   "outputs": [
    {
     "output_type": "stream",
     "name": "stdout",
     "output_type": "stream",
     "text": [
      "+-----------+--------------+----------------+-----------------+\n|Total_Count|Total_Quantity|Distinct_Invoice|        Avg_Price|\n+-----------+--------------+----------------+-----------------+\n|     541909|       5176450|           26470|4.611113626089712|\n+-----------+--------------+----------------+-----------------+\n\n"
     ]
    }
   ],
   "source": [
    "df.selectExpr(\n",
    "    \"count(*) as Total_Count\",\n",
    "    \"sum(Quantity) as Total_Quantity\",\n",
    "    \"approx_count_distinct(InvoiceNo) as Distinct_Invoice\",\n",
    "    \"avg(unitPrice) as Avg_Price\"\n",
    ").show()"
   ]
  },
  {
   "cell_type": "code",
   "execution_count": 0,
   "metadata": {
    "application/vnd.databricks.v1+cell": {
     "cellMetadata": {
      "byteLimit": 2048000,
      "rowLimit": 10000
     },
     "inputWidgets": {},
     "nuid": "998fecc0-affb-4538-92ae-eb161dea2759",
     "showTitle": false,
     "tableResultSettingsMap": {},
     "title": ""
    }
   },
   "outputs": [],
   "source": [
    "from pyspark.sql import functions as f"
   ]
  },
  {
   "cell_type": "code",
   "execution_count": 0,
   "metadata": {
    "application/vnd.databricks.v1+cell": {
     "cellMetadata": {
      "byteLimit": 2048000,
      "rowLimit": 10000
     },
     "inputWidgets": {},
     "nuid": "d388b76f-0b4c-40d5-a34d-7a494e25956f",
     "showTitle": false,
     "tableResultSettingsMap": {},
     "title": ""
    }
   },
   "outputs": [
    {
     "output_type": "stream",
     "name": "stdout",
     "output_type": "stream",
     "text": [
      "+-----------+--------------+---------------+----------------+\n|Total_count|Total_Quantity|InvoiceDistinct|       Avg_price|\n+-----------+--------------+---------------+----------------+\n|     541909|       5176450|          25900|4.61111362608848|\n+-----------+--------------+---------------+----------------+\n\n"
     ]
    }
   ],
   "source": [
    "df.select(\n",
    "          f.count(\"*\").alias(\"Total_count\"),\n",
    "          f.sum(\"Quantity\").alias(\"Total_Quantity\"),\n",
    "          f.countDistinct(\"InvoiceNo\").alias(\"InvoiceDistinct\"),\n",
    "          f.avg(\"unitPrice\").alias(\"Avg_price\") \n",
    "          ).show()"
   ]
  },
  {
   "cell_type": "code",
   "execution_count": 0,
   "metadata": {
    "application/vnd.databricks.v1+cell": {
     "cellMetadata": {
      "byteLimit": 2048000,
      "rowLimit": 10000
     },
     "inputWidgets": {},
     "nuid": "2ef59c54-3318-416b-b548-d7a93c0866aa",
     "showTitle": false,
     "tableResultSettingsMap": {},
     "title": ""
    }
   },
   "outputs": [],
   "source": [
    "df.createOrReplaceempView(\"table\")"
   ]
  },
  {
   "cell_type": "code",
   "execution_count": 0,
   "metadata": {
    "application/vnd.databricks.v1+cell": {
     "cellMetadata": {
      "byteLimit": 2048000,
      "rowLimit": 10000
     },
     "inputWidgets": {},
     "nuid": "96c5d2c7-f574-4237-ae16-b039efca8c6d",
     "showTitle": false,
     "tableResultSettingsMap": {},
     "title": ""
    }
   },
   "outputs": [],
   "source": [
    "df2 = spark.sql(\n",
    "    \"\"\"\n",
    "    SELECT Country , InvoiceNo,\n",
    "    sum(Quantity) as Total_Quantity,\n",
    "    sum(Quantity*UnitPrice) as InvoiceValue\n",
    "    from table\n",
    "    Group By Country, InvoiceNo\n",
    "    \"\"\"\n",
    ")"
   ]
  },
  {
   "cell_type": "code",
   "execution_count": 0,
   "metadata": {
    "application/vnd.databricks.v1+cell": {
     "cellMetadata": {
      "byteLimit": 2048000,
      "rowLimit": 10000
     },
     "inputWidgets": {},
     "nuid": "755f57df-4910-4c0d-a514-09711b9d851f",
     "showTitle": false,
     "tableResultSettingsMap": {},
     "title": ""
    }
   },
   "outputs": [
    {
     "output_type": "stream",
     "name": "stdout",
     "output_type": "stream",
     "text": [
      "+--------------+---------+--------------+-------------------+\n|       Country|InvoiceNo|Total_Quantity|       InvoiceValue|\n+--------------+---------+--------------+-------------------+\n|United Kingdom|   536446|           329|             440.89|\n|United Kingdom|   536508|           216|             155.52|\n|United Kingdom|   537018|            -3|                0.0|\n|United Kingdom|   537401|           -24|                0.0|\n|United Kingdom|   537811|            74|             268.86|\n|United Kingdom|  C537824|            -2|-14.899999999999999|\n|United Kingdom|   538895|           370|             247.38|\n|United Kingdom|   540453|           341| 302.44999999999993|\n|United Kingdom|   541291|           217| 305.81000000000006|\n|United Kingdom|   536627|            64| 306.20000000000005|\n|United Kingdom|   537224|           700| 1415.9700000000003|\n|United Kingdom|   537230|             1|               2.95|\n|United Kingdom|   537682|            72|               99.6|\n|United Kingdom|  C538749|            -1|              -9.95|\n|        Israel|  C539037|           -56|            -227.44|\n|United Kingdom|   539076|            96|              391.0|\n|United Kingdom|   539453|          1121|  5022.160000000001|\n|United Kingdom|  C540790|            -2|               -1.7|\n|United Kingdom|   540844|            38|               71.5|\n|United Kingdom|   540945|             1|               0.85|\n+--------------+---------+--------------+-------------------+\nonly showing top 20 rows\n\n"
     ]
    }
   ],
   "source": [
    "df2.show()"
   ]
  },
  {
   "cell_type": "code",
   "execution_count": 0,
   "metadata": {
    "application/vnd.databricks.v1+cell": {
     "cellMetadata": {
      "byteLimit": 2048000,
      "rowLimit": 10000
     },
     "inputWidgets": {},
     "nuid": "1fc2f47b-e4b6-4aa7-8697-d6e286cd5653",
     "showTitle": false,
     "tableResultSettingsMap": {},
     "title": ""
    }
   },
   "outputs": [
    {
     "output_type": "stream",
     "name": "stdout",
     "output_type": "stream",
     "text": [
      "+--------------+---------+-----------+--------------+---------------+------------+------------------+\n|       Country|InvoiceNo|Total_count|Total_Quantity|InvoiceDistinct|InvoiceValue|         Avg_price|\n+--------------+---------+-----------+--------------+---------------+------------+------------------+\n|United Kingdom|   536553|          1|             3|              1|         0.0|               0.0|\n|United Kingdom|   536574|          1|             3|              1|       17.85|              5.95|\n|United Kingdom|   537397|         10|           164|              1|       244.2|1.7700000000000002|\n|United Kingdom|   537636|          3|            32|              1|       172.0| 7.816666666666666|\n|United Kingdom|   537655|          8|            57|              1|      111.15|3.0749999999999997|\n|United Kingdom|   537885|         16|            69|              1|      258.75|          5.471875|\n|United Kingdom|   538651|         23|            78|              1|      280.94| 3.264782608695653|\n|United Kingdom|   538709|         46|            63|              1|      151.66|  2.53108695652174|\n|United Kingdom|   539008|          8|           124|              1|       307.8|              3.35|\n|United Kingdom|   539092|          6|           188|              1|      527.04|              4.67|\n|United Kingdom|   539461|         14|           101|              1|      259.55|3.5321428571428575|\n|United Kingdom|   539997|          1|             5|              1|         0.0|               0.0|\n|United Kingdom|   540148|         22|           510|              1|       364.8|0.8681818181818179|\n|United Kingdom|   540770|          7|            49|              1|      145.75| 5.607142857142857|\n|United Kingdom|   541788|         15|           160|              1|       307.6|2.5033333333333334|\n|United Kingdom|   542377|          9|            92|              1|       157.4| 2.911111111111111|\n|United Kingdom|   536629|          2|            12|              1|        22.2|              1.85|\n|United Kingdom|   536636|          1|            36|              1|       106.2|              2.95|\n|United Kingdom|   537612|         10|           122|              1|       322.3|              2.83|\n|United Kingdom|   537829|         19|           260|              1|       525.8| 3.116315789473685|\n+--------------+---------+-----------+--------------+---------------+------------+------------------+\nonly showing top 20 rows\n\n"
     ]
    }
   ],
   "source": [
    "df2 = df.groupBy(\"Country\", \"InvoiceNo\")\\\n",
    "    .agg(f.count(\"*\").alias(\"Total_count\"),\n",
    "          f.sum(\"Quantity\").alias(\"Total_Quantity\"),\n",
    "          f.countDistinct(\"InvoiceNo\").alias(\"InvoiceDistinct\"),\n",
    "           f.expr(\"round(sum(Quantity*UnitPrice),2) as InvoiceValue\"),\n",
    "          f.avg(\"unitPrice\").alias(\"Avg_price\") )\n",
    "    \n",
    "df2.show()"
   ]
  },
  {
   "cell_type": "code",
   "execution_count": 0,
   "metadata": {
    "application/vnd.databricks.v1+cell": {
     "cellMetadata": {
      "byteLimit": 2048000,
      "rowLimit": 10000
     },
     "inputWidgets": {},
     "nuid": "4d6fa46f-1f94-4c80-9eba-850d36ba2a7f",
     "showTitle": false,
     "tableResultSettingsMap": {},
     "title": ""
    }
   },
   "outputs": [
    {
     "output_type": "stream",
     "name": "stdout",
     "output_type": "stream",
     "text": [
      "root\n |-- InvoiceNo: string (nullable = true)\n |-- StockCode: string (nullable = true)\n |-- Description: string (nullable = true)\n |-- Quantity: integer (nullable = true)\n |-- InvoiceDate: string (nullable = true)\n |-- UnitPrice: double (nullable = true)\n |-- CustomerID: integer (nullable = true)\n |-- Country: string (nullable = true)\n\n"
     ]
    }
   ],
   "source": [
    "df.printSchema()"
   ]
  },
  {
   "cell_type": "code",
   "execution_count": 0,
   "metadata": {
    "application/vnd.databricks.v1+cell": {
     "cellMetadata": {
      "byteLimit": 2048000,
      "rowLimit": 10000
     },
     "inputWidgets": {},
     "nuid": "ec02b19c-4d67-4bb2-a6b9-b8b15548c70c",
     "showTitle": false,
     "tableResultSettingsMap": {},
     "title": ""
    }
   },
   "outputs": [],
   "source": [
    "new_df1 = df.withColumn(\"Date\", f.to_date(f.col(\"InvoiceDate\"), \"dd-MM-yyyy H.mm\"))\n"
   ]
  },
  {
   "cell_type": "code",
   "execution_count": 0,
   "metadata": {
    "application/vnd.databricks.v1+cell": {
     "cellMetadata": {
      "byteLimit": 2048000,
      "rowLimit": 10000
     },
     "inputWidgets": {},
     "nuid": "c504034d-cfe9-4f13-a89b-722260638393",
     "showTitle": false,
     "tableResultSettingsMap": {},
     "title": ""
    }
   },
   "outputs": [
    {
     "output_type": "stream",
     "name": "stdout",
     "output_type": "stream",
     "text": [
      "root\n |-- InvoiceNo: string (nullable = true)\n |-- StockCode: string (nullable = true)\n |-- Description: string (nullable = true)\n |-- Quantity: integer (nullable = true)\n |-- InvoiceDate: string (nullable = true)\n |-- UnitPrice: double (nullable = true)\n |-- CustomerID: integer (nullable = true)\n |-- Country: string (nullable = true)\n |-- Date: date (nullable = true)\n\n"
     ]
    }
   ],
   "source": [
    "new_df1.printSchema()"
   ]
  },
  {
   "cell_type": "code",
   "execution_count": 0,
   "metadata": {
    "application/vnd.databricks.v1+cell": {
     "cellMetadata": {
      "byteLimit": 2048000,
      "rowLimit": 10000
     },
     "inputWidgets": {},
     "nuid": "76303ba8-b04b-4652-8da3-283736c6c119",
     "showTitle": false,
     "tableResultSettingsMap": {},
     "title": ""
    }
   },
   "outputs": [],
   "source": [
    "new_df1= df.withColumn(\"week of Number\",f.weekofyear(f.col(\"InvoiceDate\")))"
   ]
  },
  {
   "cell_type": "code",
   "execution_count": 0,
   "metadata": {
    "application/vnd.databricks.v1+cell": {
     "cellMetadata": {
      "byteLimit": 2048000,
      "rowLimit": 10000
     },
     "inputWidgets": {},
     "nuid": "a6a9a053-ec13-4bef-9abe-b88280ce033c",
     "showTitle": false,
     "tableResultSettingsMap": {},
     "title": ""
    }
   },
   "outputs": [
    {
     "output_type": "stream",
     "name": "stdout",
     "output_type": "stream",
     "text": [
      "+---------+---------+--------------------+--------+---------------+---------+----------+--------------+--------------+\n|InvoiceNo|StockCode|         Description|Quantity|    InvoiceDate|UnitPrice|CustomerID|       Country|week of Number|\n+---------+---------+--------------------+--------+---------------+---------+----------+--------------+--------------+\n|   536365|     null|WHITE HANGING HEA...|       6|01-12-2010 8.26|     2.55|     17850|United Kingdom|          null|\n|   536365|    71053| WHITE METAL LANTERN|       6|01-12-2010 8.26|     3.39|     17850|United Kingdom|          null|\n|   536365|   84406B|CREAM CUPID HEART...|       8|01-12-2010 8.26|     2.75|     17850|United Kingdom|          null|\n|   536365|   84029G|KNITTED UNION FLA...|       6|01-12-2010 8.26|     3.39|     17850|United Kingdom|          null|\n|   536365|   84029E|RED WOOLLY HOTTIE...|       6|01-12-2010 8.26|     3.39|     17850|United Kingdom|          null|\n|   536365|    22752|SET 7 BABUSHKA NE...|       2|01-12-2010 8.26|     7.65|     17850|United Kingdom|          null|\n|   536365|    21730|GLASS STAR FROSTE...|       6|01-12-2010 8.26|     4.25|     17850|United Kingdom|          null|\n|   536366|    22633|HAND WARMER UNION...|       6|01-12-2010 8.28|     1.85|     17850|United Kingdom|          null|\n|   536366|    22632|HAND WARMER RED P...|       6|01-12-2010 8.28|     1.85|     17850|United Kingdom|          null|\n|   536367|    84879|ASSORTED COLOUR B...|      32|01-12-2010 8.34|     1.69|     13047|United Kingdom|          null|\n|   536367|    22745|POPPY'S PLAYHOUSE...|       6|01-12-2010 8.34|      2.1|     13047|United Kingdom|          null|\n|   536367|    22748|POPPY'S PLAYHOUSE...|       6|01-12-2010 8.34|      2.1|     13047|United Kingdom|          null|\n|   536367|    22749|FELTCRAFT PRINCES...|       8|01-12-2010 8.34|     3.75|     13047|United Kingdom|          null|\n|   536367|    22310|IVORY KNITTED MUG...|       6|01-12-2010 8.34|     1.65|     13047|United Kingdom|          null|\n|   536367|    84969|BOX OF 6 ASSORTED...|       6|01-12-2010 8.34|     4.25|     13047|United Kingdom|          null|\n|   536367|    22623|BOX OF VINTAGE JI...|       3|01-12-2010 8.34|     4.95|     13047|United Kingdom|          null|\n|   536367|    22622|BOX OF VINTAGE AL...|       2|01-12-2010 8.34|     9.95|     13047|United Kingdom|          null|\n|   536367|    21754|HOME BUILDING BLO...|       3|01-12-2010 8.34|     5.95|     13047|United Kingdom|          null|\n|   536367|    21755|LOVE BUILDING BLO...|       3|01-12-2010 8.34|     5.95|     13047|United Kingdom|          null|\n|   536367|    21777|RECIPE BOX WITH M...|       4|01-12-2010 8.34|     7.95|     13047|United Kingdom|          null|\n+---------+---------+--------------------+--------+---------------+---------+----------+--------------+--------------+\nonly showing top 20 rows\n\n"
     ]
    }
   ],
   "source": [
    "new_df1.show()"
   ]
  },
  {
   "cell_type": "code",
   "execution_count": 0,
   "metadata": {
    "application/vnd.databricks.v1+cell": {
     "cellMetadata": {},
     "inputWidgets": {},
     "nuid": "f9c3209f-f1dc-41d8-bbc3-8a19d0d1e8bf",
     "showTitle": false,
     "tableResultSettingsMap": {},
     "title": ""
    }
   },
   "outputs": [],
   "source": []
  }
 ],
 "metadata": {
  "application/vnd.databricks.v1+notebook": {
   "computePreferences": null,
   "dashboards": [],
   "environmentMetadata": {
    "base_environment": "",
    "environment_version": "1"
   },
   "inputWidgetPreferences": null,
   "language": "python",
   "notebookMetadata": {
    "pythonIndentUnit": 4
   },
   "notebookName": "9 - Aggregations",
   "widgets": {}
  }
 },
 "nbformat": 4,
 "nbformat_minor": 0
}