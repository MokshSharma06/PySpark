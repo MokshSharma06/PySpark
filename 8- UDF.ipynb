{
 "cells": [
  {
   "cell_type": "code",
   "execution_count": 0,
   "metadata": {
    "application/vnd.databricks.v1+cell": {
     "cellMetadata": {
      "byteLimit": 2048000,
      "rowLimit": 10000
     },
     "inputWidgets": {},
     "nuid": "e24a9cbc-b613-4f9a-aff3-607370f2f8ae",
     "showTitle": false,
     "tableResultSettingsMap": {},
     "title": ""
    }
   },
   "outputs": [],
   "source": [
    "from pyspark.sql import functions"
   ]
  },
  {
   "cell_type": "code",
   "execution_count": 0,
   "metadata": {
    "application/vnd.databricks.v1+cell": {
     "cellMetadata": {
      "byteLimit": 2048000,
      "rowLimit": 10000
     },
     "inputWidgets": {},
     "nuid": "a2fc89ca-b082-487f-98f3-5a6e7e094801",
     "showTitle": false,
     "tableResultSettingsMap": {},
     "title": ""
    }
   },
   "outputs": [
    {
     "output_type": "stream",
     "name": "stdout",
     "output_type": "stream",
     "text": [
      "+--------+---+----------+\n|    Name|Age|Occupation|\n+--------+---+----------+\n|   moksh| 23|   Student|\n| vaidehi| 24|   Student|\n|nivedita| 21|   Student|\n|   rahul| 27|   working|\n|   rahul| 27|      null|\n+--------+---+----------+\n\n"
     ]
    }
   ],
   "source": [
    "data = [\n",
    "    (\"moksh\",23,\"Student\") ,\n",
    "    (\"vaidehi\",24,\"Student\") ,\n",
    "    (\"nivedita\",21,\"Student\") ,\n",
    "    (\"rahul\",27,\"working\"), \n",
    "    (\"rahul\" ,27 , None)\n",
    "]\n",
    "schema=(\"Name\",\"Age\",\"Occupation\")\n",
    "df = spark.createDataFrame(data,schema)\n",
    "\n",
    "df.show()\n",
    "\n",
    "\n"
   ]
  },
  {
   "cell_type": "markdown",
   "metadata": {
    "application/vnd.databricks.v1+cell": {
     "cellMetadata": {
      "byteLimit": 2048000,
      "rowLimit": 10000
     },
     "inputWidgets": {},
     "nuid": "22340202-35f4-4c9e-8b26-68edd19acad7",
     "showTitle": false,
     "tableResultSettingsMap": {},
     "title": ""
    }
   },
   "source": [
    "Lets Create UDF to Captitalize the Name"
   ]
  },
  {
   "cell_type": "markdown",
   "metadata": {
    "application/vnd.databricks.v1+cell": {
     "cellMetadata": {
      "byteLimit": 2048000,
      "rowLimit": 10000
     },
     "inputWidgets": {},
     "nuid": "60a1f7ec-0266-4de4-b7c4-4437aee2cae9",
     "showTitle": false,
     "tableResultSettingsMap": {},
     "title": ""
    }
   },
   "source": [
    "1st Step - Creating a python function\n",
    "\n"
   ]
  },
  {
   "cell_type": "code",
   "execution_count": 0,
   "metadata": {
    "application/vnd.databricks.v1+cell": {
     "cellMetadata": {
      "byteLimit": 2048000,
      "rowLimit": 10000
     },
     "inputWidgets": {},
     "nuid": "c33e42ae-e79a-4b07-9580-8fccd2400f2e",
     "showTitle": false,
     "tableResultSettingsMap": {},
     "title": ""
    }
   },
   "outputs": [],
   "source": [
    "def capitalize(Name):\n",
    "    if Name:\n",
    "       return Name.capitalize()"
   ]
  },
  {
   "cell_type": "markdown",
   "metadata": {
    "application/vnd.databricks.v1+cell": {
     "cellMetadata": {
      "byteLimit": 2048000,
      "rowLimit": 10000
     },
     "inputWidgets": {},
     "nuid": "6280cb44-bf43-47b9-aabc-3787b71de0f5",
     "showTitle": false,
     "tableResultSettingsMap": {},
     "title": ""
    }
   },
   "source": [
    "2nd Step - Now Convert it to UDF"
   ]
  },
  {
   "cell_type": "code",
   "execution_count": 0,
   "metadata": {
    "application/vnd.databricks.v1+cell": {
     "cellMetadata": {
      "byteLimit": 2048000,
      "rowLimit": 10000
     },
     "inputWidgets": {},
     "nuid": "a9a01ff8-42f7-48cc-a120-17fa6b5a1393",
     "showTitle": false,
     "tableResultSettingsMap": {},
     "title": ""
    }
   },
   "outputs": [],
   "source": [
    "from pyspark.sql.functions import udf\n",
    "from pyspark.sql.types import StringType\n",
    "\n",
    "capitalize_udf = udf(capitalize,StringType())"
   ]
  },
  {
   "cell_type": "markdown",
   "metadata": {
    "application/vnd.databricks.v1+cell": {
     "cellMetadata": {
      "byteLimit": 2048000,
      "rowLimit": 10000
     },
     "inputWidgets": {},
     "nuid": "042359c2-b016-4ae6-bc8d-2df089278af2",
     "showTitle": false,
     "tableResultSettingsMap": {},
     "title": ""
    }
   },
   "source": [
    "3rd Step Calling UDF with Df\n"
   ]
  },
  {
   "cell_type": "code",
   "execution_count": 0,
   "metadata": {
    "application/vnd.databricks.v1+cell": {
     "cellMetadata": {
      "byteLimit": 2048000,
      "rowLimit": 10000
     },
     "inputWidgets": {},
     "nuid": "6e01c87d-232d-4f0f-bdaf-5d5a51288c34",
     "showTitle": false,
     "tableResultSettingsMap": {},
     "title": ""
    }
   },
   "outputs": [
    {
     "output_type": "stream",
     "name": "stdout",
     "output_type": "stream",
     "text": [
      "+--------+---+----------+----------+--------------+\n|    Name|Age|Occupation|Newer_Name|Occupation_New|\n+--------+---+----------+----------+--------------+\n|   moksh| 23|   Student|     Moksh|       Student|\n| vaidehi| 24|   Student|   Vaidehi|       Student|\n|nivedita| 21|   Student|  Nivedita|       Student|\n|   rahul| 27|   working|     Rahul|       Working|\n|   rahul| 27|      null|     Rahul|          null|\n+--------+---+----------+----------+--------------+\n\n"
     ]
    }
   ],
   "source": [
    "df2 = df.withColumn(\"Newer_Name\", capitalize_udf(\"Name\")) \\\n",
    "        .withColumn(\"Occupation_New\", capitalize_udf(\"Occupation\"))\n",
    "df2.show()\n"
   ]
  },
  {
   "cell_type": "code",
   "execution_count": 0,
   "metadata": {
    "application/vnd.databricks.v1+cell": {
     "cellMetadata": {
      "byteLimit": 2048000,
      "rowLimit": 10000
     },
     "inputWidgets": {},
     "nuid": "27c71936-1cb1-43da-9a01-99a7eaa4c110",
     "showTitle": false,
     "tableResultSettingsMap": {},
     "title": ""
    }
   },
   "outputs": [
    {
     "output_type": "stream",
     "name": "stdout",
     "output_type": "stream",
     "text": [
      "+---+----------+----------+--------------+\n|Age|Occupation|Newer_Name|Occupation_New|\n+---+----------+----------+--------------+\n| 23|   Student|     Moksh|       Student|\n| 21|   Student|  Nivedita|       Student|\n| 27|   working|     Rahul|       Working|\n| 24|   Student|   Vaidehi|       Student|\n+---+----------+----------+--------------+\n\n"
     ]
    }
   ],
   "source": [
    "df2 = df2.drop(\"Name\") \\\n",
    "         .dropna(subset=[\"Occupation_New\"]) \\\n",
    "         .dropDuplicates([\"Newer_Name\", \"Occupation_New\"])\n",
    "\n",
    "df2.show()\n"
   ]
  },
  {
   "cell_type": "code",
   "execution_count": 0,
   "metadata": {
    "application/vnd.databricks.v1+cell": {
     "cellMetadata": {
      "byteLimit": 2048000,
      "rowLimit": 10000
     },
     "inputWidgets": {},
     "nuid": "3e4060f0-91a5-4a27-8265-cdf9aa98fcb3",
     "showTitle": false,
     "tableResultSettingsMap": {},
     "title": ""
    }
   },
   "outputs": [],
   "source": []
  }
 ],
 "metadata": {
  "application/vnd.databricks.v1+notebook": {
   "computePreferences": null,
   "dashboards": [],
   "environmentMetadata": {
    "base_environment": "",
    "environment_version": "1"
   },
   "inputWidgetPreferences": null,
   "language": "python",
   "notebookMetadata": {
    "pythonIndentUnit": 4
   },
   "notebookName": "8- UDF",
   "widgets": {}
  }
 },
 "nbformat": 4,
 "nbformat_minor": 0
}