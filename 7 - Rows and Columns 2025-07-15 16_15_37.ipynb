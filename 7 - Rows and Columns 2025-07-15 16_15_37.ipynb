{
 "cells": [
  {
   "cell_type": "markdown",
   "metadata": {
    "application/vnd.databricks.v1+cell": {
     "cellMetadata": {
      "byteLimit": 2048000,
      "rowLimit": 10000
     },
     "inputWidgets": {},
     "nuid": "4f3a06de-05ee-4f18-9f25-441bc3cec626",
     "showTitle": false,
     "tableResultSettingsMap": {},
     "title": ""
    }
   },
   "source": [
    "accessing rows and cols"
   ]
  },
  {
   "cell_type": "code",
   "execution_count": 0,
   "metadata": {
    "application/vnd.databricks.v1+cell": {
     "cellMetadata": {
      "byteLimit": 2048000,
      "rowLimit": 10000
     },
     "inputWidgets": {},
     "nuid": "019e1db9-8488-49ef-aa00-766beb91c9c6",
     "showTitle": false,
     "tableResultSettingsMap": {},
     "title": ""
    }
   },
   "outputs": [],
   "source": [
    "from pyspark.sql import Row"
   ]
  },
  {
   "cell_type": "code",
   "execution_count": 0,
   "metadata": {
    "application/vnd.databricks.v1+cell": {
     "cellMetadata": {
      "byteLimit": 2048000,
      "rowLimit": 10000
     },
     "inputWidgets": {},
     "nuid": "fa0009ef-c8da-4623-bfc8-1110e6b8c39f",
     "showTitle": false,
     "tableResultSettingsMap": {},
     "title": ""
    }
   },
   "outputs": [],
   "source": [
    "data = [Row(name=\"Alice\", age=30), Row(name=\"Bob\", age=25), Row(name=\"Charlie\", age=35)]\n",
    "df = spark.createDataFrame(data)\n"
   ]
  },
  {
   "cell_type": "code",
   "execution_count": 0,
   "metadata": {
    "application/vnd.databricks.v1+cell": {
     "cellMetadata": {
      "byteLimit": 2048000,
      "rowLimit": 10000
     },
     "inputWidgets": {},
     "nuid": "af5c9ad4-d15d-43fd-ac96-766d4e20d193",
     "showTitle": false,
     "tableResultSettingsMap": {},
     "title": ""
    }
   },
   "outputs": [
    {
     "output_type": "stream",
     "name": "stdout",
     "output_type": "stream",
     "text": [
      "👉 Column Access (Expressions):\n+-------+---+\n|   name|age|\n+-------+---+\n|  Alice| 30|\n|    Bob| 25|\n|Charlie| 35|\n+-------+---+\n\n"
     ]
    }
   ],
   "source": [
    "print(\"👉 Column Access (Expressions):\")\n",
    "df.select(\"name\" , \"age\").show()  # Selects two column"
   ]
  },
  {
   "cell_type": "code",
   "execution_count": 0,
   "metadata": {
    "application/vnd.databricks.v1+cell": {
     "cellMetadata": {
      "byteLimit": 2048000,
      "rowLimit": 10000
     },
     "inputWidgets": {},
     "nuid": "12e7d92d-a1bf-4d9e-9d6f-b5f487185f37",
     "showTitle": false,
     "tableResultSettingsMap": {},
     "title": ""
    }
   },
   "outputs": [
    {
     "output_type": "stream",
     "name": "stdout",
     "output_type": "stream",
     "text": [
      "+-------+---+----------+\n|   name|age|age_plus_5|\n+-------+---+----------+\n|  Alice| 30|        35|\n|    Bob| 25|        30|\n|Charlie| 35|        40|\n+-------+---+----------+\n\n+-------+---+\n|   name|age|\n+-------+---+\n|Charlie| 35|\n+-------+---+\n\n"
     ]
    }
   ],
   "source": [
    "# Add 5 to age and create new column\n",
    "df_with_new_age = df.withColumn(\"age_plus_5\", df[\"age\"] + 5)\n",
    "df_with_new_age.show()\n",
    "\n",
    "# Filter based on column expression\n",
    "df.filter(df[\"age\"] > 30).show()\n",
    "\n"
   ]
  },
  {
   "cell_type": "code",
   "execution_count": 0,
   "metadata": {
    "application/vnd.databricks.v1+cell": {
     "cellMetadata": {
      "byteLimit": 2048000,
      "rowLimit": 10000
     },
     "inputWidgets": {},
     "nuid": "3e072ec4-d13e-4364-87cd-bdae00866c71",
     "showTitle": false,
     "tableResultSettingsMap": {},
     "title": ""
    }
   },
   "outputs": [
    {
     "output_type": "stream",
     "name": "stdout",
     "output_type": "stream",
     "text": [
      "👉 Row Access (Actual Data):\nFirst row: Row(name='Alice', age=30)\nFirst row name: Alice\nFirst row age: 30\nAll rows as list of Row objects:\n{'name': 'Alice', 'age': 30}\n{'name': 'Bob', 'age': 25}\n{'name': 'Charlie', 'age': 35}\n"
     ]
    }
   ],
   "source": [
    "\n",
    "# -------- ROW ACCESS --------\n",
    "print(\"👉 Row Access (Actual Data):\")\n",
    "\n",
    "# Get the first row\n",
    "first_row = df.first()\n",
    "# display(first_row) // can also be\n",
    "print(\"First row:\", first_row)\n",
    "\n",
    "# Access fields from row\n",
    "print(\"First row name:\", first_row[\"name\"])\n",
    "print(\"First row age:\", first_row[\"age\"])\n",
    "\n",
    "# Collect all rows (NOT recommended for large data)\n",
    "all_rows = df.collect()\n",
    "print(\"All rows as list of Row objects:\")\n",
    "for row in all_rows:\n",
    "    print(row.asDict())"
   ]
  },
  {
   "cell_type": "code",
   "execution_count": 0,
   "metadata": {
    "application/vnd.databricks.v1+cell": {
     "cellMetadata": {
      "byteLimit": 2048000,
      "rowLimit": 10000
     },
     "inputWidgets": {},
     "nuid": "78f67706-7181-41b8-aaec-f1d19f2df06e",
     "showTitle": false,
     "tableResultSettingsMap": {},
     "title": ""
    }
   },
   "outputs": [],
   "source": []
  }
 ],
 "metadata": {
  "application/vnd.databricks.v1+notebook": {
   "computePreferences": null,
   "dashboards": [],
   "environmentMetadata": {
    "base_environment": "",
    "environment_version": "1"
   },
   "inputWidgetPreferences": null,
   "language": "python",
   "notebookMetadata": {
    "pythonIndentUnit": 4
   },
   "notebookName": "7 - Rows and Columns 2025-07-15 16:15:37",
   "widgets": {}
  }
 },
 "nbformat": 4,
 "nbformat_minor": 0
}