{
 "cells": [
  {
   "cell_type": "code",
   "execution_count": 0,
   "metadata": {
    "application/vnd.databricks.v1+cell": {
     "cellMetadata": {
      "byteLimit": 2048000,
      "rowLimit": 10000
     },
     "inputWidgets": {},
     "nuid": "7d5f1ad2-faee-4f7d-832a-e1fb6c37b263",
     "showTitle": false,
     "tableResultSettingsMap": {},
     "title": ""
    }
   },
   "outputs": [],
   "source": [
    "from pyspark.sql import SparkSession\n",
    "from pyspark.sql import Row\n",
    "from pyspark.sql.functions import expr"
   ]
  },
  {
   "cell_type": "code",
   "execution_count": 0,
   "metadata": {
    "application/vnd.databricks.v1+cell": {
     "cellMetadata": {
      "byteLimit": 2048000,
      "rowLimit": 10000
     },
     "inputWidgets": {},
     "nuid": "d3c27514-5b4b-4209-a3e0-c1108f994b07",
     "showTitle": false,
     "tableResultSettingsMap": {},
     "title": ""
    }
   },
   "outputs": [],
   "source": [
    "students_data = [\n",
    "    Row(student_id=1, name=\"Aryan\", dept_id=101),\n",
    "    Row(student_id=2, name=\"Priya\", dept_id=102),\n",
    "    Row(student_id=3, name=\"Rahul\", dept_id=103),\n",
    "    Row(student_id=4, name=\"Ananya\", dept_id=104),\n",
    "    Row(student_id=5, name=\"Karan\", dept_id=None),\n",
    "]"
   ]
  },
  {
   "cell_type": "code",
   "execution_count": 0,
   "metadata": {
    "application/vnd.databricks.v1+cell": {
     "cellMetadata": {
      "byteLimit": 2048000,
      "rowLimit": 10000
     },
     "inputWidgets": {},
     "nuid": "ee654588-720c-4f29-9141-c92f86cece25",
     "showTitle": false,
     "tableResultSettingsMap": {},
     "title": ""
    }
   },
   "outputs": [
    {
     "output_type": "stream",
     "name": "stdout",
     "output_type": "stream",
     "text": [
      "+----------+------+-------+\n|student_id|  name|dept_id|\n+----------+------+-------+\n|         1| Aryan|    101|\n|         2| Priya|    102|\n|         3| Rahul|    103|\n|         4|Ananya|    104|\n|         5| Karan|   null|\n+----------+------+-------+\n\n"
     ]
    }
   ],
   "source": [
    "df=spark.createDataFrame(students_data)\n",
    "df.show()"
   ]
  },
  {
   "cell_type": "code",
   "execution_count": 0,
   "metadata": {
    "application/vnd.databricks.v1+cell": {
     "cellMetadata": {
      "byteLimit": 2048000,
      "rowLimit": 10000
     },
     "inputWidgets": {},
     "nuid": "15e2b967-448e-4b68-8ea0-a638afa0bf9b",
     "showTitle": false,
     "tableResultSettingsMap": {},
     "title": ""
    }
   },
   "outputs": [],
   "source": [
    "departments_data = [\n",
    "    Row(dept_id=101, dept_name=\"Computer Science\"),\n",
    "    Row(dept_id=102, dept_name=\"Mathematics\"),\n",
    "    Row(dept_id=103, dept_name=\"Physics\"),\n",
    "    Row(dept_id=105, dept_name=\"Chemistry\"),\n",
    "]"
   ]
  },
  {
   "cell_type": "code",
   "execution_count": 0,
   "metadata": {
    "application/vnd.databricks.v1+cell": {
     "cellMetadata": {
      "byteLimit": 2048000,
      "rowLimit": 10000
     },
     "inputWidgets": {},
     "nuid": "c7850a13-6482-4d77-b0c7-07eca1356f20",
     "showTitle": false,
     "tableResultSettingsMap": {},
     "title": ""
    }
   },
   "outputs": [],
   "source": [
    "df2 = spark.createDataFrame(departments_data)"
   ]
  },
  {
   "cell_type": "code",
   "execution_count": 0,
   "metadata": {
    "application/vnd.databricks.v1+cell": {
     "cellMetadata": {
      "byteLimit": 2048000,
      "rowLimit": 10000
     },
     "inputWidgets": {},
     "nuid": "272adc20-ca93-4fde-8144-1d7725953481",
     "showTitle": false,
     "tableResultSettingsMap": {},
     "title": ""
    }
   },
   "outputs": [
    {
     "output_type": "stream",
     "name": "stdout",
     "output_type": "stream",
     "text": [
      "+-------+----------------+\n|dept_id|       dept_name|\n+-------+----------------+\n|    101|Computer Science|\n|    102|     Mathematics|\n|    103|         Physics|\n|    105|       Chemistry|\n+-------+----------------+\n\n"
     ]
    }
   ],
   "source": [
    "df2.show()"
   ]
  },
  {
   "cell_type": "markdown",
   "metadata": {
    "application/vnd.databricks.v1+cell": {
     "cellMetadata": {},
     "inputWidgets": {},
     "nuid": "e69a783b-b96e-4539-be22-28a346c08dc9",
     "showTitle": false,
     "tableResultSettingsMap": {},
     "title": ""
    }
   },
   "source": []
  },
  {
   "cell_type": "markdown",
   "metadata": {
    "application/vnd.databricks.v1+cell": {
     "cellMetadata": {},
     "inputWidgets": {},
     "nuid": "d50d91e3-f975-4d60-93fc-ae9ed408aad2",
     "showTitle": false,
     "tableResultSettingsMap": {},
     "title": ""
    }
   },
   "source": [
    "Lets Perform Joins "
   ]
  },
  {
   "cell_type": "code",
   "execution_count": 0,
   "metadata": {
    "application/vnd.databricks.v1+cell": {
     "cellMetadata": {
      "byteLimit": 2048000,
      "rowLimit": 10000
     },
     "inputWidgets": {},
     "nuid": "e805768c-5b74-432c-8267-da209ee4d2a4",
     "showTitle": false,
     "tableResultSettingsMap": {},
     "title": ""
    }
   },
   "outputs": [],
   "source": [
    "renamed_df = df2.withColumnRenamed(\"dept_id\",\"Department\")"
   ]
  },
  {
   "cell_type": "code",
   "execution_count": 0,
   "metadata": {
    "application/vnd.databricks.v1+cell": {
     "cellMetadata": {
      "byteLimit": 2048000,
      "rowLimit": 10000
     },
     "inputWidgets": {},
     "nuid": "a88e09b2-8984-4eab-8fd0-4551b8745e49",
     "showTitle": false,
     "tableResultSettingsMap": {},
     "title": ""
    }
   },
   "outputs": [],
   "source": [
    "join_expr =df.dept_id == renamed_df.Department"
   ]
  },
  {
   "cell_type": "code",
   "execution_count": 0,
   "metadata": {
    "application/vnd.databricks.v1+cell": {
     "cellMetadata": {
      "byteLimit": 2048000,
      "rowLimit": 10000
     },
     "inputWidgets": {},
     "nuid": "c8b7deef-2018-42d2-a846-96698a7507cb",
     "showTitle": false,
     "tableResultSettingsMap": {},
     "title": ""
    }
   },
   "outputs": [
    {
     "output_type": "stream",
     "name": "stdout",
     "output_type": "stream",
     "text": [
      "+----------+-----+-------+-------+----------------+\n|student_id| name|dept_id|dept_id|       dept_name|\n+----------+-----+-------+-------+----------------+\n|         1|Aryan|    101|    101|Computer Science|\n|         2|Priya|    102|    102|     Mathematics|\n|         3|Rahul|    103|    103|         Physics|\n+----------+-----+-------+-------+----------------+\n\n"
     ]
    }
   ],
   "source": [
    "df.join(df2, join_expr ,\"inner\")\\\n",
    "    .select(\"*\")\\\n",
    "        .show()"
   ]
  },
  {
   "cell_type": "code",
   "execution_count": 0,
   "metadata": {
    "application/vnd.databricks.v1+cell": {
     "cellMetadata": {
      "byteLimit": 2048000,
      "rowLimit": 10000
     },
     "inputWidgets": {},
     "nuid": "b046ea56-a969-4854-9200-26e04103c3b8",
     "showTitle": false,
     "tableResultSettingsMap": {},
     "title": ""
    }
   },
   "outputs": [
    {
     "output_type": "stream",
     "name": "stdout",
     "output_type": "stream",
     "text": [
      "+----------+------+-------+-------+----------------+\n|student_id|  name|dept_id|dept_id|       dept_name|\n+----------+------+-------+-------+----------------+\n|      null|  null|   null|    105|       Chemistry|\n|         1| Aryan|    101|    101|Computer Science|\n|         2| Priya|    102|    102|     Mathematics|\n|         3| Rahul|    103|    103|         Physics|\n|         4|Ananya|    104|   null|            null|\n|         5| Karan|   null|   null|            null|\n+----------+------+-------+-------+----------------+\n\n"
     ]
    }
   ],
   "source": [
    "df.join(df2, join_expr ,\"outer\")\\\n",
    "    .select(\"*\")\\\n",
    "        .sort(\"student_id\")\\\n",
    "            .show()"
   ]
  },
  {
   "cell_type": "code",
   "execution_count": 0,
   "metadata": {
    "application/vnd.databricks.v1+cell": {
     "cellMetadata": {
      "byteLimit": 2048000,
      "rowLimit": 10000
     },
     "inputWidgets": {},
     "nuid": "5017ed7a-959f-4b6c-a508-759b4e07ba0f",
     "showTitle": false,
     "tableResultSettingsMap": {},
     "title": ""
    }
   },
   "outputs": [
    {
     "output_type": "stream",
     "name": "stdout",
     "output_type": "stream",
     "text": [
      "+----------+------+-------+----------+----------------+\n|student_id|  name|dept_id|Department|       dept_name|\n+----------+------+-------+----------+----------------+\n|         1| Aryan|    101|       101|Computer Science|\n|         2| Priya|    102|       102|     Mathematics|\n|         3| Rahul|    103|       103|         Physics|\n|         4|Ananya|    104|       104|            null|\n|         5| Karan|   null|      null|            null|\n+----------+------+-------+----------+----------------+\n\n"
     ]
    }
   ],
   "source": [
    "df.join(renamed_df, join_expr ,\"left\")\\\n",
    "    .select(\"*\")\\\n",
    "         .withColumn(\"Department\", expr(\"coalesce(Department, dept_id)\"))\\\n",
    "             .sort(\"student_id\")\\\n",
    "            .show()"
   ]
  },
  {
   "cell_type": "code",
   "execution_count": 0,
   "metadata": {
    "application/vnd.databricks.v1+cell": {
     "cellMetadata": {},
     "inputWidgets": {},
     "nuid": "ac247ad9-3d8f-4cb0-af9f-c3340c6e045d",
     "showTitle": false,
     "tableResultSettingsMap": {},
     "title": ""
    }
   },
   "outputs": [],
   "source": []
  }
 ],
 "metadata": {
  "application/vnd.databricks.v1+notebook": {
   "computePreferences": null,
   "dashboards": [],
   "environmentMetadata": {
    "base_environment": "",
    "environment_version": "1"
   },
   "inputWidgetPreferences": null,
   "language": "python",
   "notebookMetadata": {
    "pythonIndentUnit": 4
   },
   "notebookName": "10- Joins",
   "widgets": {}
  }
 },
 "nbformat": 4,
 "nbformat_minor": 0
}
